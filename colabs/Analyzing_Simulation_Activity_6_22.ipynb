{
  "nbformat": 4,
  "nbformat_minor": 0,
  "metadata": {
    "colab": {
      "name": "Analyzing Simulation Activity 6/22",
      "provenance": [],
      "collapsed_sections": [],
      "authorship_tag": "ABX9TyO90klkrGButQLuZjylPVqb",
      "include_colab_link": true
    },
    "kernelspec": {
      "name": "python3",
      "display_name": "Python 3"
    }
  },
  "cells": [
    {
      "cell_type": "markdown",
      "metadata": {
        "id": "view-in-github",
        "colab_type": "text"
      },
      "source": [
        "<a href=\"https://colab.research.google.com/github/dlsun/Stat350-S20/blob/master/colabs/Analyzing_Simulation_Activity_6_22.ipynb\" target=\"_parent\"><img src=\"https://colab.research.google.com/assets/colab-badge.svg\" alt=\"Open In Colab\"/></a>"
      ]
    },
    {
      "cell_type": "markdown",
      "metadata": {
        "id": "UsSVevSZp9nU",
        "colab_type": "text"
      },
      "source": [
        "In order to investigate Galileo's question of whether it is easier to get a sum of 9 or a sum of 10 when you roll three dice, each of you simulated 5 rolls of three dice and reported their sum. The data that we collected as a class is in the cell below."
      ]
    },
    {
      "cell_type": "code",
      "metadata": {
        "id": "5O-i6KYzqNWG",
        "colab_type": "code",
        "colab": {}
      },
      "source": [
        "data = [11,16,13,10,9,12,8,14,15,7,10,6,11,10,14,8,10,11,10,13,5,5,9,4,12,10,7,9,7,9,10,12,8,9,9,5,7,10,8,8,16,7,9,7,14,14,6,5,10,17,9,14,9,15,8,5,6,10,9,12,16,9,8,7,8,8,8,9,12,10,6,12,12,8,12,7,13,10,13,14,13,17,9,7,10,10,12,5,7,7,13,8,4,6,13,15,10,9,15,15,10,10,11,13,14,4,10,5,14,13,7,10,17,13,13,13,7,15,8,11,16,14,9,12,15,13,13,13,8,10,8,10,11,11,14,13,11,10,9,10,8,9,15,4,12,12,9,7,15,14,11,10,17,12,12,13,11,13,7,12,13,8,10,11,10,10,13,9,12,6,11,13,13,9,11,6,13,9,13,7,16,10,8,11,13,16,12,8,12,12,15,15,10,8,11,12,13,13,14,16,13,12,10,8,3,12,7,6,16,7,10,11,8,9,13,10,10,13,11,15,14,13,11,17,10,9,13,9,10,8]"
      ],
      "execution_count": null,
      "outputs": []
    },
    {
      "cell_type": "markdown",
      "metadata": {
        "id": "W9OwUYMMq_w_",
        "colab_type": "text"
      },
      "source": [
        "Here is a graph and table that shows how many of each outcome there were."
      ]
    },
    {
      "cell_type": "code",
      "metadata": {
        "id": "KBviyjnFqC5C",
        "colab_type": "code",
        "colab": {}
      },
      "source": [
        "import matplotlib.pyplot as plt\n",
        "import pandas as pd\n",
        "\n",
        "plt.hist(data, bins=100);\n",
        "pd.value_counts(data, sort=False)"
      ],
      "execution_count": null,
      "outputs": []
    },
    {
      "cell_type": "markdown",
      "metadata": {
        "id": "4spaVENHqZUo",
        "colab_type": "text"
      },
      "source": [
        "What do you think: does it seem like a sum of 9 or a sum of 10 is more likely?"
      ]
    }
  ]
}