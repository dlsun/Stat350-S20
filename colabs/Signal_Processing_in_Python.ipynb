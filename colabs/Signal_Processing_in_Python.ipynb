{
  "nbformat": 4,
  "nbformat_minor": 0,
  "metadata": {
    "kernelspec": {
      "display_name": "Python 3",
      "language": "python",
      "name": "python3"
    },
    "language_info": {
      "codemirror_mode": {
        "name": "ipython",
        "version": 3
      },
      "file_extension": ".py",
      "mimetype": "text/x-python",
      "name": "python",
      "nbconvert_exporter": "python",
      "pygments_lexer": "ipython3",
      "version": "3.6.8"
    },
    "colab": {
      "name": "Signal Processing in Python",
      "provenance": [],
      "include_colab_link": true
    }
  },
  "cells": [
    {
      "cell_type": "markdown",
      "metadata": {
        "id": "view-in-github",
        "colab_type": "text"
      },
      "source": [
        "<a href=\"https://colab.research.google.com/github/dlsun/Stat350-S20/blob/master/colabs/Signal_Processing_in_Python.ipynb\" target=\"_parent\"><img src=\"https://colab.research.google.com/assets/colab-badge.svg\" alt=\"Open In Colab\"/></a>"
      ]
    },
    {
      "cell_type": "code",
      "metadata": {
        "id": "kGpFGah4zQZF",
        "colab_type": "code",
        "colab": {}
      },
      "source": [
        "import numpy as np\n",
        "import matplotlib.pyplot as plt\n",
        "\n",
        "from IPython.display import Audio"
      ],
      "execution_count": null,
      "outputs": []
    },
    {
      "cell_type": "markdown",
      "metadata": {
        "id": "1I-SxExKzQZi",
        "colab_type": "text"
      },
      "source": [
        "# Signal Processing in Python"
      ]
    },
    {
      "cell_type": "markdown",
      "metadata": {
        "id": "V5p8JjBezQZj",
        "colab_type": "text"
      },
      "source": [
        "To generate a 440 Hz pure sine tone that lasts for 5 seconds at a sampling rate of 8000 Hz, we would write:\n",
        "```\n",
        "fs = 8000\n",
        "t = np.arange(0, 5, 1 / fs)\n",
        "x = np.sin(2 * np.pi * 440 * t)\n",
        "```\n",
        "\n",
        "Note the use of functions and constants that are available in the Numpy (`np`) library. \n",
        "\n",
        "To plot the first 0.01 seconds of this signal, type:\n",
        "```\n",
        "plt.plot(t[t < .01], x[t < .01])\n",
        "```\n",
        "\n",
        "To listen to the signal at the sampling rate, type:\n",
        "```\n",
        "Audio(x, fs)\n",
        "```\n",
        "\n",
        "Give it a try below!"
      ]
    },
    {
      "cell_type": "code",
      "metadata": {
        "id": "OZN-zNrBzQZk",
        "colab_type": "code",
        "colab": {}
      },
      "source": [
        "fs = 16000\n",
        "t = np.arange(0, 5, 1 / fs)\n",
        "x = np.sin(2 * np.pi * 440 * t)\n",
        "plt.plot(t[t < .01], x[t < .01])\n",
        "Audio(x, rate=fs)"
      ],
      "execution_count": null,
      "outputs": []
    },
    {
      "cell_type": "markdown",
      "metadata": {
        "id": "nPpnZtZRzQZm",
        "colab_type": "text"
      },
      "source": [
        "Generate an audio signal that consists of pure 1000 Hz and 2500 Hz sine tones. Make the 2500 Hz sine tone half as loud as the 1000 Hz sine tone.\n",
        "\n",
        "**Question 1.** Plot the first 0.05 seconds of this signal. Listen to the audio signal."
      ]
    },
    {
      "cell_type": "code",
      "metadata": {
        "id": "WZb1EM5QzQZn",
        "colab_type": "code",
        "colab": {}
      },
      "source": [
        "# TYPE YOUR CODE HERE."
      ],
      "execution_count": null,
      "outputs": []
    },
    {
      "cell_type": "markdown",
      "metadata": {
        "id": "5Xcdjt6UzQZq",
        "colab_type": "text"
      },
      "source": [
        "You can take the Discrete Fourier Transform (DFT) of a signal using the following command. (FFT stands for Fast Fourier Transform, the standard algorithm for computing the DFT.)\n",
        "\n",
        "```\n",
        "x_hat = np.fft.fft(x)\n",
        "```\n",
        "\n",
        "This will create an array of complex numbers `x_hat` with the same length as `x`. These values represent the Fourier transform evaluated at $N$ equal frequencies between $[-f_s / 2, f_s / 2)$. The first $N/2$ values represent the Fourier coefficients for frequencies in $[0, f_s / 2)$, while the remaining $N/2$ values represent Fourier coefficients for frequencies in $[-f_s / 2, 0)$. (The frequencies \"wrap around\" after reaching the Nyquist limit $f_s / 2$.) We typically only plot the first half of the spectrum because the second half is just the reflection of the first half. We also plot the power (magnitude squared), since it's difficult to plot a complex-valued function!\n",
        "\n",
        "```\n",
        "freqs = np.arange(0, fs, fs / len(x))\n",
        "inds = np.arange(len(x) // 2)\n",
        "plt.plot(freqs[inds], np.abs(x_hat[inds]) ** 2)\n",
        "```"
      ]
    },
    {
      "cell_type": "markdown",
      "metadata": {
        "id": "KxUZ_92yzQZr",
        "colab_type": "text"
      },
      "source": [
        "**Question 2.** Take the DFT of the signal you generated in part (a). Make sure that it recovers the two frequencies that you know were actually in your signal."
      ]
    },
    {
      "cell_type": "code",
      "metadata": {
        "id": "7Yghsdg0zQZr",
        "colab_type": "code",
        "colab": {}
      },
      "source": [
        "# TYPE YOUR CODE HERE."
      ],
      "execution_count": null,
      "outputs": []
    },
    {
      "cell_type": "markdown",
      "metadata": {
        "id": "Hpb55fULzQZu",
        "colab_type": "text"
      },
      "source": [
        "**Question 3.** We used a sampling rate of $f_s = 16000\\ \\text{Hz}$. Try lowering $f_s$ to $8000\\ \\text{Hz}$ and play the signal again. Does it sound the same? What if you lower $f_s$ to $4000\\ \\text{Hz}$? Make some plots that explain what is going on in the time domain and in the frequency domain."
      ]
    },
    {
      "cell_type": "code",
      "metadata": {
        "id": "uWs-t-kFzQZv",
        "colab_type": "code",
        "colab": {}
      },
      "source": [
        "# TYPE YOUR CODE HERE"
      ],
      "execution_count": null,
      "outputs": []
    },
    {
      "cell_type": "markdown",
      "metadata": {
        "id": "meZtiCgIzQZx",
        "colab_type": "text"
      },
      "source": [
        "**YOUR REFLECTION HERE**"
      ]
    }
  ]
}