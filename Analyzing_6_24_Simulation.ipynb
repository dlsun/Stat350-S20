{
  "nbformat": 4,
  "nbformat_minor": 0,
  "metadata": {
    "colab": {
      "name": "Analyzing 6/24 Simulation",
      "provenance": [],
      "authorship_tag": "ABX9TyNh5qhCXpYV+rrJGIvWJDlt",
      "include_colab_link": true
    },
    "kernelspec": {
      "name": "python3",
      "display_name": "Python 3"
    }
  },
  "cells": [
    {
      "cell_type": "markdown",
      "metadata": {
        "id": "view-in-github",
        "colab_type": "text"
      },
      "source": [
        "<a href=\"https://colab.research.google.com/github/dlsun/Stat350-S20/blob/master/Analyzing_6_24_Simulation.ipynb\" target=\"_parent\"><img src=\"https://colab.research.google.com/assets/colab-badge.svg\" alt=\"Open In Colab\"/></a>"
      ]
    },
    {
      "cell_type": "markdown",
      "metadata": {
        "id": "RhSksRoycd5M",
        "colab_type": "text"
      },
      "source": [
        "We conducted an in-class simulation to answer the following question:\n",
        "\n",
        "> A certain disease afflicts 10% of the population. A test for the disease is 90% accurate for patients with the disease and 80% accurate for patients without the disease. Suppose you test positive for the disease. What is the probability that you actually have the disease?\n",
        "\n",
        "The data is reproduced below."
      ]
    },
    {
      "cell_type": "code",
      "metadata": {
        "id": "csZ_aWeLa0Od",
        "colab_type": "code",
        "colab": {}
      },
      "source": [
        "import pandas as pd\n",
        "data = pd.DataFrame([\n",
        " ['I do not have the disease', 'I tested negative'],\n",
        " ['I have the disease', 'I tested positive'],\n",
        " ['I do not have the disease', 'I tested negative'],\n",
        " ['I do not have the disease', 'I tested negative'],\n",
        " ['I have the disease', 'I tested positive'],\n",
        " ['I do not have the disease', 'I tested negative'],\n",
        " ['I have the disease', 'I tested positive'],\n",
        " ['I do not have the disease', 'I tested negative'],\n",
        " ['I do not have the disease', 'I tested negative'],\n",
        " ['I do not have the disease', 'I tested negative'],\n",
        " ['I do not have the disease', 'I tested negative'],\n",
        " ['I have the disease', 'I tested positive'],\n",
        " ['I do not have the disease', 'I tested negative'],\n",
        " ['I do not have the disease', 'I tested negative'],\n",
        " ['I have the disease', 'I tested positive'],\n",
        " ['I do not have the disease', 'I tested negative'],\n",
        " ['I do not have the disease', 'I tested positive'],\n",
        " ['I do not have the disease', 'I tested negative'],\n",
        " ['I have the disease', 'I tested positive'],\n",
        " ['I do not have the disease', 'I tested positive'],\n",
        " ['I do not have the disease', 'I tested negative'],\n",
        " ['I do not have the disease', 'I tested negative'],\n",
        " ['I do not have the disease', 'I tested negative'],\n",
        " ['I have the disease', 'I tested positive'],\n",
        " ['I do not have the disease', 'I tested negative'],\n",
        " ['I do not have the disease', 'I tested negative'],\n",
        " ['I do not have the disease', 'I tested negative'],\n",
        " ['I do not have the disease', 'I tested negative'],\n",
        " ['I do not have the disease', 'I tested negative'],\n",
        " ['I do not have the disease', 'I tested positive'],\n",
        " ['I do not have the disease', 'I tested negative'],\n",
        " ['I do not have the disease', 'I tested positive'],\n",
        " ['I do not have the disease', 'I tested negative'],\n",
        " ['I do not have the disease', 'I tested negative'],\n",
        " ['I do not have the disease', 'I tested negative'],\n",
        " ['I do not have the disease', 'I tested negative'],\n",
        " ['I have the disease', 'I tested positive'],\n",
        " ['I do not have the disease', 'I tested positive'],\n",
        " ['I do not have the disease', 'I tested negative'],\n",
        " ['I do not have the disease', 'I tested negative'],\n",
        " ['I do not have the disease', 'I tested negative'],\n",
        " ['I do not have the disease', 'I tested negative'],\n",
        " ['I have the disease', 'I tested negative'],\n",
        " ['I do not have the disease', 'I tested negative'],\n",
        " ['I do not have the disease', 'I tested negative'],\n",
        " ['I have the disease', 'I tested positive']\n",
        "], columns=[\"Disease\", \"Test\"])"
      ],
      "execution_count": null,
      "outputs": []
    },
    {
      "cell_type": "markdown",
      "metadata": {
        "id": "4y6uwE1lboPY",
        "colab_type": "text"
      },
      "source": [
        "The following code counts the number of people with each disease status and test status, producing a two-way table."
      ]
    },
    {
      "cell_type": "code",
      "metadata": {
        "id": "rOFKBw9CbOX-",
        "colab_type": "code",
        "colab": {}
      },
      "source": [
        "pd.crosstab(data[\"Disease\"], data[\"Test\"])"
      ],
      "execution_count": null,
      "outputs": []
    }
  ]
}