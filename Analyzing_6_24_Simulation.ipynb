{
  "nbformat": 4,
  "nbformat_minor": 0,
  "metadata": {
    "colab": {
      "name": "Analyzing 6/24 Simulation",
      "provenance": [],
      "authorship_tag": "ABX9TyOmt4mbmT0DDK8EUQC3V17V",
      "include_colab_link": true
    },
    "kernelspec": {
      "name": "python3",
      "display_name": "Python 3"
    }
  },
  "cells": [
    {
      "cell_type": "markdown",
      "metadata": {
        "id": "view-in-github",
        "colab_type": "text"
      },
      "source": [
        "<a href=\"https://colab.research.google.com/github/dlsun/Stat350-S20/blob/master/Analyzing_6_24_Simulation.ipynb\" target=\"_parent\"><img src=\"https://colab.research.google.com/assets/colab-badge.svg\" alt=\"Open In Colab\"/></a>"
      ]
    },
    {
      "cell_type": "markdown",
      "metadata": {
        "id": "RhSksRoycd5M",
        "colab_type": "text"
      },
      "source": [
        "We conducted an in-class simulation to answer the following question:\n",
        "\n",
        "> A certain disease afflicts 10% of the population. A test for the disease is 90% accurate for patients with the disease and 80% accurate for patients without the disease. Suppose you test positive for the disease. What is the probability that you actually have the disease?\n",
        "\n",
        "The data can be found below."
      ]
    },
    {
      "cell_type": "code",
      "metadata": {
        "id": "csZ_aWeLa0Od",
        "colab_type": "code",
        "colab": {}
      },
      "source": [
        "import pandas as pd\n",
        "data = pd.DataFrame([\n",
        " ['I do not have the disease', 'I tested negative'],\n",
        " ['I have the disease', 'I tested positive'],\n",
        " ['I do not have the disease', 'I tested negative'],\n",
        " ['I do not have the disease', 'I tested negative'],\n",
        " ['I have the disease', 'I tested positive'],\n",
        " ['I do not have the disease', 'I tested negative'],\n",
        " ['I have the disease', 'I tested positive'],\n",
        " ['I do not have the disease', 'I tested negative'],\n",
        " ['I do not have the disease', 'I tested negative'],\n",
        " ['I do not have the disease', 'I tested negative'],\n",
        " ['I do not have the disease', 'I tested negative'],\n",
        " ['I have the disease', 'I tested positive'],\n",
        " ['I do not have the disease', 'I tested negative'],\n",
        " ['I do not have the disease', 'I tested negative'],\n",
        " ['I have the disease', 'I tested positive'],\n",
        " ['I do not have the disease', 'I tested negative'],\n",
        " ['I do not have the disease', 'I tested positive'],\n",
        " ['I do not have the disease', 'I tested negative'],\n",
        " ['I have the disease', 'I tested positive'],\n",
        " ['I do not have the disease', 'I tested positive'],\n",
        " ['I do not have the disease', 'I tested negative'],\n",
        " ['I do not have the disease', 'I tested negative'],\n",
        " ['I do not have the disease', 'I tested negative'],\n",
        " ['I have the disease', 'I tested positive'],\n",
        " ['I do not have the disease', 'I tested negative'],\n",
        " ['I do not have the disease', 'I tested negative'],\n",
        " ['I do not have the disease', 'I tested negative'],\n",
        " ['I do not have the disease', 'I tested negative'],\n",
        " ['I do not have the disease', 'I tested negative'],\n",
        " ['I do not have the disease', 'I tested positive'],\n",
        " ['I do not have the disease', 'I tested negative'],\n",
        " ['I do not have the disease', 'I tested positive'],\n",
        " ['I do not have the disease', 'I tested negative'],\n",
        " ['I do not have the disease', 'I tested negative'],\n",
        " ['I do not have the disease', 'I tested negative'],\n",
        " ['I do not have the disease', 'I tested negative'],\n",
        " ['I have the disease', 'I tested positive'],\n",
        " ['I do not have the disease', 'I tested positive'],\n",
        " ['I do not have the disease', 'I tested negative'],\n",
        " ['I do not have the disease', 'I tested negative'],\n",
        " ['I do not have the disease', 'I tested negative'],\n",
        " ['I do not have the disease', 'I tested negative'],\n",
        " ['I have the disease', 'I tested negative'],\n",
        " ['I do not have the disease', 'I tested negative'],\n",
        " ['I do not have the disease', 'I tested negative'],\n",
        " ['I have the disease', 'I tested positive']\n",
        "], columns=[\"Disease\", \"Test\"])"
      ],
      "execution_count": 11,
      "outputs": []
    },
    {
      "cell_type": "markdown",
      "metadata": {
        "id": "4y6uwE1lboPY",
        "colab_type": "text"
      },
      "source": [
        "The following code counts the number of people with each disease status and test status, producing a two-way table."
      ]
    },
    {
      "cell_type": "code",
      "metadata": {
        "id": "rOFKBw9CbOX-",
        "colab_type": "code",
        "colab": {
          "base_uri": "https://localhost:8080/",
          "height": 136
        },
        "outputId": "8850c14b-8525-46e5-e094-e098a7434f83"
      },
      "source": [
        "pd.crosstab(data[\"Disease\"], data[\"Test\"])"
      ],
      "execution_count": 12,
      "outputs": [
        {
          "output_type": "execute_result",
          "data": {
            "text/html": [
              "<div>\n",
              "<style scoped>\n",
              "    .dataframe tbody tr th:only-of-type {\n",
              "        vertical-align: middle;\n",
              "    }\n",
              "\n",
              "    .dataframe tbody tr th {\n",
              "        vertical-align: top;\n",
              "    }\n",
              "\n",
              "    .dataframe thead th {\n",
              "        text-align: right;\n",
              "    }\n",
              "</style>\n",
              "<table border=\"1\" class=\"dataframe\">\n",
              "  <thead>\n",
              "    <tr style=\"text-align: right;\">\n",
              "      <th>Test</th>\n",
              "      <th>I tested negative</th>\n",
              "      <th>I tested positive</th>\n",
              "    </tr>\n",
              "    <tr>\n",
              "      <th>Disease</th>\n",
              "      <th></th>\n",
              "      <th></th>\n",
              "    </tr>\n",
              "  </thead>\n",
              "  <tbody>\n",
              "    <tr>\n",
              "      <th>I do not have the disease</th>\n",
              "      <td>31</td>\n",
              "      <td>5</td>\n",
              "    </tr>\n",
              "    <tr>\n",
              "      <th>I have the disease</th>\n",
              "      <td>1</td>\n",
              "      <td>9</td>\n",
              "    </tr>\n",
              "  </tbody>\n",
              "</table>\n",
              "</div>"
            ],
            "text/plain": [
              "Test                       I tested negative  I tested positive\n",
              "Disease                                                        \n",
              "I do not have the disease                 31                  5\n",
              "I have the disease                         1                  9"
            ]
          },
          "metadata": {
            "tags": []
          },
          "execution_count": 12
        }
      ]
    }
  ]
}